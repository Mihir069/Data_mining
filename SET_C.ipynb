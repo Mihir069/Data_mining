{
  "nbformat": 4,
  "nbformat_minor": 0,
  "metadata": {
    "colab": {
      "provenance": []
    },
    "kernelspec": {
      "name": "python3",
      "display_name": "Python 3"
    },
    "language_info": {
      "name": "python"
    }
  },
  "cells": [
    {
      "cell_type": "code",
      "execution_count": 7,
      "metadata": {
        "id": "SPKoQdjrpLg3",
        "colab": {
          "base_uri": "https://localhost:8080/"
        },
        "outputId": "de9b94cb-513f-40b9-b04b-4fd86b7a087b"
      },
      "outputs": [
        {
          "output_type": "stream",
          "name": "stdout",
          "text": [
            "Accuracy: 1.0\n",
            "Split (0.75, 0.25): Accuracy=1.0\n",
            "Split (0.6666666666666666, 0.3333333333333333): Accuracy=0.9607843137254902\n",
            "Method: hold-out, Accuracy=1.0\n",
            "Method: random_subsampling, Accuracy=1.0\n",
            "Cross-validation scores: [0.93333333 0.96666667 0.93333333 0.93333333 1.        ]\n",
            "Method: cross-validation, Accuracy=1.0\n"
          ]
        }
      ],
      "source": [
        "import pandas as pd\n",
        "from sklearn.model_selection import train_test_split, cross_val_score\n",
        "from sklearn.preprocessing import StandardScaler\n",
        "from sklearn.naive_bayes import GaussianNB\n",
        "from sklearn.metrics import accuracy_score\n",
        "from sklearn.datasets import load_iris\n",
        "\n",
        "df = load_iris()\n",
        "X = df.data\n",
        "y=df.target\n",
        "\n",
        "\n",
        "X_train, X_test, y_train, y_test = train_test_split(X,y, test_size=0.25, random_state=42)\n",
        "\n",
        "# Standardize the data\n",
        "scaler = StandardScaler()\n",
        "X_train_scaled = scaler.fit_transform(X_train)\n",
        "X_test_scaled = scaler.transform(X_test)\n",
        "\n",
        "# Train the Naive Bayes classifier\n",
        "nb = GaussianNB()\n",
        "nb.fit(X_train_scaled, y_train)\n",
        "\n",
        "# Predict on the test set\n",
        "y_pred = nb.predict(X_test_scaled)\n",
        "\n",
        "# Compute the accuracy\n",
        "accuracy = accuracy_score(y_test, y_pred)\n",
        "print(\"Accuracy:\", accuracy)\n",
        "\n",
        "# Use different training/test set splits\n",
        "splits = [(0.75, 0.25), (2/3, 1/3)]\n",
        "for split in splits:\n",
        "    X_train, X_test, y_train, y_test = train_test_split(X,y, test_size=1-split[0], random_state=42)\n",
        "    X_train_scaled = scaler.fit_transform(X_train)\n",
        "    X_test_scaled = scaler.transform(X_test)\n",
        "    nb.fit(X_train_scaled, y_train)\n",
        "    y_pred = nb.predict(X_test_scaled)\n",
        "    accuracy = accuracy_score(y_test, y_pred)\n",
        "    print(f\"Split {split}: Accuracy={accuracy}\")\n",
        "\n",
        "# Use different methods for training set selection\n",
        "methods = ['hold-out', 'random_subsampling', 'cross-validation']\n",
        "for method in methods:\n",
        "    if method == 'hold-out':\n",
        "        X_train, X_test, y_train, y_test = train_test_split(X,y, test_size=0.25, random_state=42)\n",
        "    elif method == 'random_subsampling':\n",
        "        # Perform random subsampling (e.g., K iterations)\n",
        "        pass  # Implement your random subsampling logic here\n",
        "    elif method == 'cross-validation':\n",
        "        scores = cross_val_score(nb, X,y, cv=5)\n",
        "        print(f\"Cross-validation scores: {scores}\")\n",
        "\n",
        "    X_train_scaled = scaler.fit_transform(X_train)\n",
        "    X_test_scaled = scaler.transform(X_test)\n",
        "    nb.fit(X_train_scaled, y_train)\n",
        "    y_pred = nb.predict(X_test_scaled)\n",
        "    accuracy = accuracy_score(y_test, y_pred)\n",
        "    print(f\"Method: {method}, Accuracy={accuracy}\")\n"
      ]
    },
    {
      "cell_type": "code",
      "source": [],
      "metadata": {
        "id": "XVsrtttntAxP"
      },
      "execution_count": null,
      "outputs": []
    },
    {
      "cell_type": "markdown",
      "source": [
        "75/25"
      ],
      "metadata": {
        "id": "cAfJWDGgs-VR"
      }
    },
    {
      "cell_type": "code",
      "source": [],
      "metadata": {
        "id": "WlWU1Xg0sX1d"
      },
      "execution_count": null,
      "outputs": []
    }
  ]
}