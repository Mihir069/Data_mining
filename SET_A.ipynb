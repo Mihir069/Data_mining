{
  "nbformat": 4,
  "nbformat_minor": 0,
  "metadata": {
    "colab": {
      "provenance": []
    },
    "kernelspec": {
      "name": "python3",
      "display_name": "Python 3"
    },
    "language_info": {
      "name": "python"
    }
  },
  "cells": [
    {
      "cell_type": "markdown",
      "source": [
        "1. Use K-nearest classification algorithm and build classifier. Divide the data set into\n",
        "training and test set. Compute the accuracy of the different classifiers under the following\n",
        "situations:\n",
        "• Training set = 75% Test set = 25%  \n",
        "• Training set = 66.6% (2/3rd of total), Test set = 33.3%\n",
        "• Training set is chosen by  \n",
        "o hold out method  \n",
        "o Random subsampling  \n",
        "o Cross-Validation.\n",
        "• Data is scaled to standard format."
      ],
      "metadata": {
        "id": "WILhRXh8HCEn"
      }
    },
    {
      "cell_type": "code",
      "execution_count": 10,
      "metadata": {
        "id": "ZKelCrANHAT3"
      },
      "outputs": [],
      "source": [
        "import numpy as np\n",
        "from sklearn.datasets import load_iris\n",
        "from sklearn.model_selection import train_test_split\n",
        "from sklearn.preprocessing import StandardScaler\n",
        "from sklearn.neighbors import KNeighborsClassifier\n",
        "from sklearn.metrics import accuracy_score"
      ]
    },
    {
      "cell_type": "code",
      "source": [
        "iris = load_iris()\n",
        "X, y = iris.data, iris.target"
      ],
      "metadata": {
        "id": "aSA5Rh2hHpNH"
      },
      "execution_count": 11,
      "outputs": []
    },
    {
      "cell_type": "markdown",
      "source": [
        "75/25"
      ],
      "metadata": {
        "id": "2saP9yjuqPc9"
      }
    },
    {
      "cell_type": "code",
      "source": [
        "# holdout method for 75/25\n",
        "X_train, X_test, y_train, y_test = train_test_split(X, y, test_size=0.25, random_state=42)\n",
        "\n",
        "scaler = StandardScaler()\n",
        "X_train_scaled = scaler.fit_transform(X_train)\n",
        "X_test_scaled = scaler.transform(X_test)\n",
        "\n",
        "knn = KNeighborsClassifier(n_neighbors=3)\n",
        "knn.fit(X_train_scaled, y_train)\n",
        "y_pred = knn.predict(X_test_scaled)\n",
        "\n",
        "accuracy = accuracy_score(y_test, y_pred)\n",
        "print(\"Accuracy:\", accuracy)"
      ],
      "metadata": {
        "colab": {
          "base_uri": "https://localhost:8080/"
        },
        "id": "lmkphTuGHlBg",
        "outputId": "438ca19a-ced0-4166-9209-8d8274535e91"
      },
      "execution_count": 12,
      "outputs": [
        {
          "output_type": "stream",
          "name": "stdout",
          "text": [
            "Accuracy: 1.0\n"
          ]
        }
      ]
    },
    {
      "cell_type": "code",
      "source": [
        "num_trials = 10  # Number of random splits\n",
        "accuracies = []\n",
        "\n",
        "for _ in range(num_trials):\n",
        "    # Split the dataset into training and test sets randomly\n",
        "    X_train, X_test, y_train, y_test = train_test_split(X, y, test_size=0.25)\n",
        "\n",
        "    # Scale the data to standard format\n",
        "    scaler = StandardScaler()\n",
        "    X_train_scaled = scaler.fit_transform(X_train)\n",
        "    X_test_scaled = scaler.transform(X_test)\n",
        "\n",
        "    # Initialize KNN classifier\n",
        "    knn = KNeighborsClassifier(n_neighbors=3)\n",
        "\n",
        "    # Train the KNN classifier\n",
        "    knn.fit(X_train_scaled, y_train)\n",
        "\n",
        "    # Make predictions on the test set\n",
        "    y_pred = knn.predict(X_test_scaled)\n",
        "\n",
        "    # Evaluate the accuracy of the classifier and store it\n",
        "    accuracy = accuracy_score(y_test, y_pred)\n",
        "    accuracies.append(accuracy)\n",
        "\n",
        "# Compute the average accuracy\n",
        "average_accuracy = np.mean(accuracies)\n",
        "print(\"Average Accuracy (Random Subsampling):\", average_accuracy)"
      ],
      "metadata": {
        "colab": {
          "base_uri": "https://localhost:8080/"
        },
        "id": "pEHW3Xj5HiXQ",
        "outputId": "db0573a3-ebe2-40e8-8af8-23b14003a8b1"
      },
      "execution_count": 13,
      "outputs": [
        {
          "output_type": "stream",
          "name": "stdout",
          "text": [
            "Average Accuracy (Random Subsampling): 0.9368421052631579\n"
          ]
        }
      ]
    },
    {
      "cell_type": "code",
      "source": [
        "from sklearn.model_selection import cross_val_score\n",
        "\n",
        "# Scale the data to standard format\n",
        "scaler = StandardScaler()\n",
        "X_scaled = scaler.fit_transform(X)\n",
        "\n",
        "# Initialize KNN classifier\n",
        "knn = KNeighborsClassifier(n_neighbors=3)\n",
        "\n",
        "# Perform 5-fold cross-validation\n",
        "cv_scores = cross_val_score(knn, X_scaled, y, cv=5)\n",
        "\n",
        "# Compute the average accuracy\n",
        "average_accuracy = np.mean(cv_scores)\n",
        "print(\"Average Accuracy (Cross-Validation):\", average_accuracy)\n"
      ],
      "metadata": {
        "colab": {
          "base_uri": "https://localhost:8080/"
        },
        "id": "gwe0_yn1HVzX",
        "outputId": "69bfd138-58ef-48e3-e442-c22bbc606008"
      },
      "execution_count": 14,
      "outputs": [
        {
          "output_type": "stream",
          "name": "stdout",
          "text": [
            "Average Accuracy (Cross-Validation): 0.9533333333333334\n"
          ]
        }
      ]
    },
    {
      "cell_type": "code",
      "source": [
        "# holdout method for 75/25\n",
        "X_train, X_test, y_train, y_test = train_test_split(X, y, test_size=0.33, random_state=42)\n",
        "\n",
        "scaler = StandardScaler()\n",
        "X_train_scaled = scaler.fit_transform(X_train)\n",
        "X_test_scaled = scaler.transform(X_test)\n",
        "\n",
        "knn = KNeighborsClassifier(n_neighbors=3)\n",
        "knn.fit(X_train_scaled, y_train)\n",
        "y_pred = knn.predict(X_test_scaled)\n",
        "\n",
        "accuracy = accuracy_score(y_test, y_pred)\n",
        "print(\"Accuracy:\", accuracy)"
      ],
      "metadata": {
        "id": "sXG4NdvXIpEg",
        "colab": {
          "base_uri": "https://localhost:8080/"
        },
        "outputId": "78197bad-64ab-4c25-a748-1127faf71759"
      },
      "execution_count": 15,
      "outputs": [
        {
          "output_type": "stream",
          "name": "stdout",
          "text": [
            "Accuracy: 0.98\n"
          ]
        }
      ]
    },
    {
      "cell_type": "code",
      "source": [
        "from sklearn.model_selection import cross_val_score\n",
        "\n",
        "# Scale the data to standard format\n",
        "scaler = StandardScaler()\n",
        "X_scaled = scaler.fit_transform(X)\n",
        "\n",
        "# Initialize KNN classifier\n",
        "knn = KNeighborsClassifier(n_neighbors=3)\n",
        "\n",
        "# Perform 5-fold cross-validation\n",
        "cv_scores = cross_val_score(knn, X_scaled, y, cv=5)\n",
        "\n",
        "# Compute the average accuracy\n",
        "average_accuracy = np.mean(cv_scores)\n",
        "print(\"Average Accuracy (Cross-Validation):\", average_accuracy)\n"
      ],
      "metadata": {
        "colab": {
          "base_uri": "https://localhost:8080/"
        },
        "outputId": "71aa8af0-558d-4a1c-d049-cfd716997bbf",
        "id": "nXgFioDvpw8S"
      },
      "execution_count": 16,
      "outputs": [
        {
          "output_type": "stream",
          "name": "stdout",
          "text": [
            "Average Accuracy (Cross-Validation): 0.9533333333333334\n"
          ]
        }
      ]
    },
    {
      "cell_type": "code",
      "source": [],
      "metadata": {
        "id": "4LrtVOhRqf7U"
      },
      "execution_count": 16,
      "outputs": []
    },
    {
      "cell_type": "code",
      "source": [
        "num_trials = 10  # Number of random splits\n",
        "accuracies = []\n",
        "\n",
        "for _ in range(num_trials):\n",
        "    # Split the dataset into training and test sets randomly\n",
        "    X_train, X_test, y_train, y_test = train_test_split(X, y, test_size=0.25)\n",
        "\n",
        "    # Scale the data to standard format\n",
        "    scaler = StandardScaler()\n",
        "    X_train_scaled = scaler.fit_transform(X_train)\n",
        "    X_test_scaled = scaler.transform(X_test)\n",
        "\n",
        "    # Initialize KNN classifier\n",
        "    knn = KNeighborsClassifier(n_neighbors=3)\n",
        "\n",
        "    # Train the KNN classifier\n",
        "    knn.fit(X_train_scaled, y_train)\n",
        "\n",
        "    # Make predictions on the test set\n",
        "    y_pred = knn.predict(X_test_scaled)\n",
        "\n",
        "    # Evaluate the accuracy of the classifier and store it\n",
        "    accuracy = accuracy_score(y_test, y_pred)\n",
        "    accuracies.append(accuracy)\n",
        "\n",
        "# Compute the average accuracy\n",
        "average_accuracy = np.mean(accuracies)\n",
        "print(\"Average Accuracy (Random Subsampling):\", average_accuracy)"
      ],
      "metadata": {
        "colab": {
          "base_uri": "https://localhost:8080/"
        },
        "outputId": "7bfa6f1d-6c16-4ba5-edd9-87c295094902",
        "id": "QXyoKJzkqgBf"
      },
      "execution_count": 17,
      "outputs": [
        {
          "output_type": "stream",
          "name": "stdout",
          "text": [
            "Average Accuracy (Random Subsampling): 0.944736842105263\n"
          ]
        }
      ]
    }
  ]
}