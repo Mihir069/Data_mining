{
  "nbformat": 4,
  "nbformat_minor": 0,
  "metadata": {
    "colab": {
      "provenance": []
    },
    "kernelspec": {
      "name": "python3",
      "display_name": "Python 3"
    },
    "language_info": {
      "name": "python"
    }
  },
  "cells": [
    {
      "cell_type": "code",
      "source": [
        "import numpy as np\n",
        "import matplotlib.pyplot as plt\n",
        "from sklearn import datasets\n",
        "from sklearn.cluster import DBSCAN, AgglomerativeClustering\n",
        "from sklearn.metrics import silhouette_score\n",
        "\n",
        "# Load the Iris dataset\n",
        "iris = datasets.load_iris()\n",
        "X = iris.data\n",
        "\n",
        "# Perform clustering with different parameters for DBSCAN\n",
        "eps_values = [0.1, 0.3, 0.5, 0.7, 0.9]\n",
        "min_samples_values = [2, 3, 4, 5, 6]\n",
        "best_eps, best_min_samples, best_score = None, None, -1\n",
        "\n",
        "for eps in eps_values:\n",
        "    for min_samples in min_samples_values:\n",
        "        dbscan = DBSCAN(eps=eps, min_samples=min_samples)\n",
        "        y_pred = dbscan.fit_predict(X)\n",
        "        if len(np.unique(y_pred)) > 1:  # Check if multiple clusters are formed\n",
        "            score = silhouette_score(X, y_pred)\n",
        "            if score > best_score:\n",
        "                best_score = score\n",
        "                best_eps = eps\n",
        "                best_min_samples = min_samples\n",
        "\n",
        "print(f\"Best DBSCAN parameters: eps={best_eps}, min_samples={best_min_samples}, silhouette score={best_score}\")\n",
        "\n",
        "# Perform clustering with different parameters for hierarchical clustering\n",
        "linkage_values = ['ward', 'complete', 'average', 'single']\n",
        "best_linkage, best_score = None, -1\n",
        "\n",
        "for linkage in linkage_values:\n",
        "    clustering = AgglomerativeClustering(linkage=linkage, n_clusters=3)\n",
        "    y_pred = clustering.fit_predict(X)\n",
        "    if len(np.unique(y_pred)) > 1:  # Check if multiple clusters are formed\n",
        "        score = silhouette_score(X, y_pred)\n",
        "        if score > best_score:\n",
        "            best_score = score\n",
        "            best_linkage = linkage\n",
        "\n",
        "print(f\"Best hierarchical clustering parameter: linkage={best_linkage}, silhouette score={best_score}\")\n"
      ],
      "metadata": {
        "colab": {
          "base_uri": "https://localhost:8080/"
        },
        "id": "dyzn2Odb0s8Y",
        "outputId": "640dbcca-ecf5-445a-d346-2d09ad418c15"
      },
      "execution_count": 51,
      "outputs": [
        {
          "output_type": "stream",
          "name": "stderr",
          "text": [
            "/usr/local/lib/python3.10/dist-packages/ipykernel/ipkernel.py:283: DeprecationWarning: `should_run_async` will not call `transform_cell` automatically in the future. Please pass the result to `transformed_cell` argument and any exception that happen during thetransform in `preprocessing_exc_tuple` in IPython 7.17 and above.\n",
            "  and should_run_async(code)\n"
          ]
        },
        {
          "output_type": "stream",
          "name": "stdout",
          "text": [
            "Best DBSCAN parameters: eps=0.9, min_samples=2, silhouette score=0.6867350732769777\n",
            "Best hierarchical clustering parameter: linkage=ward, silhouette score=0.5543236611296419\n"
          ]
        }
      ]
    }
  ]
}