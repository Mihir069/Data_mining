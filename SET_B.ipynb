{
  "nbformat": 4,
  "nbformat_minor": 0,
  "metadata": {
    "colab": {
      "provenance": []
    },
    "kernelspec": {
      "name": "python3",
      "display_name": "Python 3"
    },
    "language_info": {
      "name": "python"
    }
  },
  "cells": [
    {
      "cell_type": "code",
      "execution_count": null,
      "metadata": {
        "id": "SPKoQdjrpLg3"
      },
      "outputs": [],
      "source": [
        "import pandas as pd\n",
        "\n",
        "data = pd.read_csv(\"people.txt\", delimiter=\" \")\n",
        "\n",
        "def ruleset_E(data):\n",
        "    violations = []\n",
        "    for index, row in data.iterrows():\n",
        "\n",
        "        if not 0 <= row['Age'] <= 150:\n",
        "            violations.append((index, \"Rule 1: Age should be in the range 0-150\"))\n",
        "\n",
        "\n",
        "        if row['Age'] <= row['yearsmarried']:\n",
        "            violations.append((index, \"Rule 2: Age should be greater than yearsmarried\"))\n",
        "\n",
        "\n",
        "        if row['status'] not in ['married', 'single', 'widowed']:\n",
        "            violations.append((index, \"Rule 3: Status should be married, single, or widowed\"))\n",
        "        if row['Age'] < 18:\n",
        "            expected_agegroup = 'child'\n",
        "        elif 18 <= row['Age'] <= 65:\n",
        "            expected_agegroup = 'adult'\n",
        "        else:\n",
        "            expected_agegroup = 'elderly'\n",
        "\n",
        "        if row['agegroup'] != expected_agegroup:\n",
        "            violations.append((index, \"Rule 4: Incorrect agegroup categorization\"))\n",
        "\n",
        "    return violations\n",
        "\n",
        "violations = ruleset_E(data)\n",
        "\n",
        "if violations:\n",
        "    print(\"Rule violations found:\")\n",
        "    for violation in violations:\n",
        "        print(f\"Index: {violation[0]}, Violation: {violation[1]}\")\n",
        "else:\n",
        "    print(\"No rule violations found.\")\n",
        "\n",
        "import matplotlib.pyplot as plt\n",
        "violation_indices = [violation[0] for violation in violations]\n",
        "\n",
        "plt.bar(violation_indices, [1] * len(violation_indices))\n",
        "plt.xlabel('Index')\n",
        "plt.ylabel('Violation')\n",
        "plt.title('Rule Violations')\n",
        "\n",
        "plt.xticks(range(int(min(violation_indices)), int(max(violation_indices))+1))\n",
        "\n",
        "plt.yticks(range(0, len(violation_indices)+1))\n",
        "\n",
        "plt.show()"
      ]
    }
  ]
}